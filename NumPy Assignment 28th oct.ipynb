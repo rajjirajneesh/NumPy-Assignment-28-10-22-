{
 "cells": [
  {
   "cell_type": "code",
   "execution_count": 1,
   "id": "e4270584",
   "metadata": {},
   "outputs": [],
   "source": [
    "import numpy as np"
   ]
  },
  {
   "cell_type": "markdown",
   "id": "c8a9ac73",
   "metadata": {},
   "source": [
    "1-Write a NumPy program to convert a list of numeric values into a one-dimensional NumPy array. \n"
   ]
  },
  {
   "cell_type": "code",
   "execution_count": 7,
   "id": "5ad1781f",
   "metadata": {},
   "outputs": [],
   "source": [
    "n1=[2,3,4,5,6,7]\n",
    "n2=np.array(n1)"
   ]
  },
  {
   "cell_type": "code",
   "execution_count": 8,
   "id": "70f965fb",
   "metadata": {},
   "outputs": [
    {
     "data": {
      "text/plain": [
       "array([2, 3, 4, 5, 6, 7])"
      ]
     },
     "execution_count": 8,
     "metadata": {},
     "output_type": "execute_result"
    }
   ],
   "source": [
    "n2"
   ]
  },
  {
   "cell_type": "code",
   "execution_count": 9,
   "id": "02e410ce",
   "metadata": {},
   "outputs": [
    {
     "data": {
      "text/plain": [
       "1"
      ]
     },
     "execution_count": 9,
     "metadata": {},
     "output_type": "execute_result"
    }
   ],
   "source": [
    "n2.ndim"
   ]
  },
  {
   "cell_type": "markdown",
   "id": "6e70f709",
   "metadata": {},
   "source": [
    "3-Write a NumPy program to create a null vector of size 10 and update the sixth value to 11"
   ]
  },
  {
   "cell_type": "code",
   "execution_count": 45,
   "id": "bef0d0b9",
   "metadata": {},
   "outputs": [
    {
     "data": {
      "text/plain": [
       "array([0., 0., 0., 0., 0., 0., 0., 0., 0., 0.])"
      ]
     },
     "execution_count": 45,
     "metadata": {},
     "output_type": "execute_result"
    }
   ],
   "source": [
    "x=np.zeros(10)\n",
    "x"
   ]
  },
  {
   "cell_type": "code",
   "execution_count": 47,
   "id": "6d637c61",
   "metadata": {},
   "outputs": [
    {
     "data": {
      "text/plain": [
       "array([ 0.,  0.,  0.,  0.,  0.,  0., 11.,  0.,  0.,  0.])"
      ]
     },
     "execution_count": 47,
     "metadata": {},
     "output_type": "execute_result"
    }
   ],
   "source": [
    "x[6]=11\n",
    "x"
   ]
  },
  {
   "cell_type": "markdown",
   "id": "b392be74",
   "metadata": {},
   "source": [
    "4-Write a NumPy program to reverse an array (first element becomes last)"
   ]
  },
  {
   "cell_type": "code",
   "execution_count": 48,
   "id": "77ce6b59",
   "metadata": {},
   "outputs": [
    {
     "data": {
      "text/plain": [
       "array([0, 1, 2, 3, 4, 5, 6, 7, 8, 9])"
      ]
     },
     "execution_count": 48,
     "metadata": {},
     "output_type": "execute_result"
    }
   ],
   "source": [
    "b=np.arange(0,10)\n",
    "b"
   ]
  },
  {
   "cell_type": "code",
   "execution_count": 49,
   "id": "a875b70e",
   "metadata": {},
   "outputs": [
    {
     "data": {
      "text/plain": [
       "array([9, 8, 7, 6, 5, 4, 3, 2, 1, 0])"
      ]
     },
     "execution_count": 49,
     "metadata": {},
     "output_type": "execute_result"
    }
   ],
   "source": [
    "c=b[::-1]\n",
    "c"
   ]
  },
  {
   "cell_type": "markdown",
   "id": "0ab7593e",
   "metadata": {},
   "source": [
    "5-Write a NumPy program to create a 2d array with 1 on the border and 0 inside"
   ]
  },
  {
   "cell_type": "code",
   "execution_count": 58,
   "id": "42049bb4",
   "metadata": {},
   "outputs": [
    {
     "data": {
      "text/plain": [
       "array([[1., 1., 1., 1.],\n",
       "       [1., 1., 1., 1.],\n",
       "       [1., 1., 1., 1.],\n",
       "       [1., 1., 1., 1.]])"
      ]
     },
     "execution_count": 58,
     "metadata": {},
     "output_type": "execute_result"
    }
   ],
   "source": [
    "q=np.ones((4,4))\n",
    "q"
   ]
  },
  {
   "cell_type": "code",
   "execution_count": 59,
   "id": "dea15c80",
   "metadata": {},
   "outputs": [
    {
     "data": {
      "text/plain": [
       "array([[1., 1., 1., 1.],\n",
       "       [1., 0., 0., 1.],\n",
       "       [1., 0., 0., 1.],\n",
       "       [1., 1., 1., 1.]])"
      ]
     },
     "execution_count": 59,
     "metadata": {},
     "output_type": "execute_result"
    }
   ],
   "source": [
    "q[1:-1,1:-1]=0\n",
    "q"
   ]
  },
  {
   "cell_type": "markdown",
   "id": "5b27cf6b",
   "metadata": {},
   "source": [
    "7-Write a NumPy program to append values to the end of an array"
   ]
  },
  {
   "cell_type": "code",
   "execution_count": 65,
   "id": "c554279e",
   "metadata": {},
   "outputs": [
    {
     "data": {
      "text/plain": [
       "[2, 3, 4]"
      ]
     },
     "execution_count": 65,
     "metadata": {},
     "output_type": "execute_result"
    }
   ],
   "source": [
    "t=[2,3,4]\n",
    "t"
   ]
  },
  {
   "cell_type": "code",
   "execution_count": 66,
   "id": "4a5f4d27",
   "metadata": {},
   "outputs": [
    {
     "data": {
      "text/plain": [
       "array([ 2,  3,  4,  5,  6,  7,  8,  9, 10])"
      ]
     },
     "execution_count": 66,
     "metadata": {},
     "output_type": "execute_result"
    }
   ],
   "source": [
    "t=np.append(t,[[5,6,7],[8,9,10]])\n",
    "t"
   ]
  },
  {
   "cell_type": "markdown",
   "id": "bb5b404e",
   "metadata": {},
   "source": [
    "9-Write a NumPy program to find the number of elements of an array, length of one array element in bytes and total bytes consumed by the elements"
   ]
  },
  {
   "cell_type": "code",
   "execution_count": 67,
   "id": "d38ae30c",
   "metadata": {},
   "outputs": [
    {
     "name": "stdout",
     "output_type": "stream",
     "text": [
      "Size of the array:  3\n",
      "Length of one array element in bytes:  4\n",
      "Total bytes consumed by the elements:  12\n"
     ]
    }
   ],
   "source": [
    "x4=np.array([1,2,3])\n",
    "print(\"Size of the array: \", x4.size)\n",
    "print(\"Length of one array element in bytes: \", x4.itemsize)\n",
    "print(\"Total bytes consumed by the elements: \", x4.nbytes)"
   ]
  },
  {
   "cell_type": "markdown",
   "id": "d3bd1fe8",
   "metadata": {},
   "source": [
    "10-Write a NumPy program to test whether each element of a 1-D array is also present in a second array"
   ]
  },
  {
   "cell_type": "code",
   "execution_count": 69,
   "id": "027c78be",
   "metadata": {},
   "outputs": [
    {
     "name": "stdout",
     "output_type": "stream",
     "text": [
      "Array1:  [  0  18 290 409 660]\n",
      "Array2:  [  4 660  18]\n",
      "Compare each element of a1 and a2\n",
      "[False  True False False  True]\n"
     ]
    }
   ],
   "source": [
    "a1 = np.array([0, 18, 290, 409, 660])\n",
    "print(\"Array1: \",a1)\n",
    "a2 = np.array([4,660,18])\n",
    "print(\"Array2: \",a2)\n",
    "print(\"Compare each element of a1 and a2\")\n",
    "print(np.in1d(a1, a2))"
   ]
  },
  {
   "cell_type": "markdown",
   "id": "a01926c8",
   "metadata": {},
   "source": [
    "11-Write a NumPy program to create an array of ones and an array of zeros"
   ]
  },
  {
   "cell_type": "code",
   "execution_count": 73,
   "id": "771bd461",
   "metadata": {},
   "outputs": [
    {
     "name": "stdout",
     "output_type": "stream",
     "text": [
      "array of ones = [1. 1. 1. 1. 1. 1. 1. 1. 1. 1.]\n",
      "array of zeros = [0. 0. 0. 0. 0.]\n"
     ]
    }
   ],
   "source": [
    "ones=np.ones(10)\n",
    "print(\"array of ones =\",ones)\n",
    "zeros=np.zeros(5)\n",
    "print(\"array of zeros =\",zeros)"
   ]
  },
  {
   "cell_type": "markdown",
   "id": "bf746ef1",
   "metadata": {},
   "source": [
    "12-Write a NumPy program to create a new shape to an array without changing its data"
   ]
  },
  {
   "cell_type": "code",
   "execution_count": 78,
   "id": "60c7d7f7",
   "metadata": {},
   "outputs": [
    {
     "name": "stdout",
     "output_type": "stream",
     "text": [
      "[1 2 3 4 5 6]\n"
     ]
    },
    {
     "data": {
      "text/plain": [
       "array([[1, 2],\n",
       "       [3, 4],\n",
       "       [5, 6]])"
      ]
     },
     "execution_count": 78,
     "metadata": {},
     "output_type": "execute_result"
    }
   ],
   "source": [
    "x4 = np.array([1, 2, 3, 4, 5, 6])\n",
    "y = np.reshape(x4,(3,2))\n",
    "print(x4)\n",
    "y"
   ]
  },
  {
   "cell_type": "markdown",
   "id": "c1997566",
   "metadata": {},
   "source": [
    "13-Write a NumPy program to change the data type of an array"
   ]
  },
  {
   "cell_type": "code",
   "execution_count": 82,
   "id": "1de18532",
   "metadata": {},
   "outputs": [
    {
     "data": {
      "text/plain": [
       "array([30, 40,  5,  6])"
      ]
     },
     "execution_count": 82,
     "metadata": {},
     "output_type": "execute_result"
    }
   ],
   "source": [
    "u=np.array([30.5,40.7,5.2,6.5])\n",
    "i=u.astype(int)\n",
    "i"
   ]
  },
  {
   "cell_type": "markdown",
   "id": "cb3f654c",
   "metadata": {},
   "source": [
    "15-Write a NumPy program to create a 3-D array with ones on a diagonal and zeros elsewhere\n"
   ]
  },
  {
   "cell_type": "code",
   "execution_count": 92,
   "id": "e2b8eea6",
   "metadata": {},
   "outputs": [
    {
     "data": {
      "text/plain": [
       "array([[1., 0., 0., 0., 0.],\n",
       "       [0., 1., 0., 0., 0.],\n",
       "       [0., 0., 1., 0., 0.],\n",
       "       [0., 0., 0., 1., 0.],\n",
       "       [0., 0., 0., 0., 1.]])"
      ]
     },
     "execution_count": 92,
     "metadata": {},
     "output_type": "execute_result"
    }
   ],
   "source": [
    "L=np.eye(5)\n",
    "L"
   ]
  },
  {
   "cell_type": "code",
   "execution_count": null,
   "id": "81a7b2d2",
   "metadata": {},
   "outputs": [],
   "source": []
  },
  {
   "cell_type": "code",
   "execution_count": null,
   "id": "f56e0c16",
   "metadata": {},
   "outputs": [],
   "source": []
  }
 ],
 "metadata": {
  "kernelspec": {
   "display_name": "Python 3 (ipykernel)",
   "language": "python",
   "name": "python3"
  },
  "language_info": {
   "codemirror_mode": {
    "name": "ipython",
    "version": 3
   },
   "file_extension": ".py",
   "mimetype": "text/x-python",
   "name": "python",
   "nbconvert_exporter": "python",
   "pygments_lexer": "ipython3",
   "version": "3.10.7"
  }
 },
 "nbformat": 4,
 "nbformat_minor": 5
}
